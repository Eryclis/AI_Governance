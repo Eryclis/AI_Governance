{
 "cells": [
  {
   "cell_type": "markdown",
   "id": "412877a7",
   "metadata": {},
   "source": [
    " This script takes the raw data (from pdfs), extract the text, and convert it into a dataframe that we will use for further work. The dataframe is called:\n",
    " \n",
    " - Intermediate Data.csv"
   ]
  },
  {
   "cell_type": "code",
   "execution_count": 1,
   "id": "975d9685",
   "metadata": {},
   "outputs": [
    {
     "name": "stdout",
     "output_type": "stream",
     "text": [
      "Requirement already satisfied: pdf2image in /Users/eryclisrodrigues/anaconda3/lib/python3.11/site-packages (1.17.0)\n",
      "Requirement already satisfied: nltk in /Users/eryclisrodrigues/anaconda3/lib/python3.11/site-packages (3.8.1)\n",
      "Requirement already satisfied: spacy in /Users/eryclisrodrigues/anaconda3/lib/python3.11/site-packages (3.7.4)\n",
      "Requirement already satisfied: easyocr in /Users/eryclisrodrigues/anaconda3/lib/python3.11/site-packages (1.7.1)\n",
      "Requirement already satisfied: pillow in /Users/eryclisrodrigues/anaconda3/lib/python3.11/site-packages (from pdf2image) (9.4.0)\n",
      "Requirement already satisfied: click in /Users/eryclisrodrigues/anaconda3/lib/python3.11/site-packages (from nltk) (8.1.7)\n",
      "Requirement already satisfied: joblib in /Users/eryclisrodrigues/anaconda3/lib/python3.11/site-packages (from nltk) (1.3.2)\n",
      "Requirement already satisfied: regex>=2021.8.3 in /Users/eryclisrodrigues/anaconda3/lib/python3.11/site-packages (from nltk) (2023.12.25)\n",
      "Requirement already satisfied: tqdm in /Users/eryclisrodrigues/anaconda3/lib/python3.11/site-packages (from nltk) (4.66.2)\n",
      "Requirement already satisfied: spacy-legacy<3.1.0,>=3.0.11 in /Users/eryclisrodrigues/anaconda3/lib/python3.11/site-packages (from spacy) (3.0.12)\n",
      "Requirement already satisfied: spacy-loggers<2.0.0,>=1.0.0 in /Users/eryclisrodrigues/anaconda3/lib/python3.11/site-packages (from spacy) (1.0.5)\n",
      "Requirement already satisfied: murmurhash<1.1.0,>=0.28.0 in /Users/eryclisrodrigues/anaconda3/lib/python3.11/site-packages (from spacy) (1.0.10)\n",
      "Requirement already satisfied: cymem<2.1.0,>=2.0.2 in /Users/eryclisrodrigues/anaconda3/lib/python3.11/site-packages (from spacy) (2.0.8)\n",
      "Requirement already satisfied: preshed<3.1.0,>=3.0.2 in /Users/eryclisrodrigues/anaconda3/lib/python3.11/site-packages (from spacy) (3.0.9)\n",
      "Requirement already satisfied: thinc<8.3.0,>=8.2.2 in /Users/eryclisrodrigues/anaconda3/lib/python3.11/site-packages (from spacy) (8.2.2)\n",
      "Requirement already satisfied: wasabi<1.2.0,>=0.9.1 in /Users/eryclisrodrigues/anaconda3/lib/python3.11/site-packages (from spacy) (1.1.2)\n",
      "Requirement already satisfied: srsly<3.0.0,>=2.4.3 in /Users/eryclisrodrigues/anaconda3/lib/python3.11/site-packages (from spacy) (2.4.8)\n",
      "Requirement already satisfied: catalogue<2.1.0,>=2.0.6 in /Users/eryclisrodrigues/anaconda3/lib/python3.11/site-packages (from spacy) (2.0.10)\n",
      "Requirement already satisfied: weasel<0.4.0,>=0.1.0 in /Users/eryclisrodrigues/anaconda3/lib/python3.11/site-packages (from spacy) (0.3.4)\n",
      "Requirement already satisfied: typer<0.10.0,>=0.3.0 in /Users/eryclisrodrigues/anaconda3/lib/python3.11/site-packages (from spacy) (0.9.0)\n",
      "Requirement already satisfied: smart-open<7.0.0,>=5.2.1 in /Users/eryclisrodrigues/anaconda3/lib/python3.11/site-packages (from spacy) (5.2.1)\n",
      "Requirement already satisfied: requests<3.0.0,>=2.13.0 in /Users/eryclisrodrigues/anaconda3/lib/python3.11/site-packages (from spacy) (2.31.0)\n",
      "Requirement already satisfied: pydantic!=1.8,!=1.8.1,<3.0.0,>=1.7.4 in /Users/eryclisrodrigues/anaconda3/lib/python3.11/site-packages (from spacy) (1.10.14)\n",
      "Requirement already satisfied: jinja2 in /Users/eryclisrodrigues/anaconda3/lib/python3.11/site-packages (from spacy) (3.1.2)\n",
      "Requirement already satisfied: setuptools in /Users/eryclisrodrigues/anaconda3/lib/python3.11/site-packages (from spacy) (68.0.0)\n",
      "Requirement already satisfied: packaging>=20.0 in /Users/eryclisrodrigues/anaconda3/lib/python3.11/site-packages (from spacy) (23.2)\n",
      "Requirement already satisfied: langcodes<4.0.0,>=3.2.0 in /Users/eryclisrodrigues/anaconda3/lib/python3.11/site-packages (from spacy) (3.3.0)\n",
      "Requirement already satisfied: numpy>=1.19.0 in /Users/eryclisrodrigues/anaconda3/lib/python3.11/site-packages (from spacy) (1.24.4)\n",
      "Requirement already satisfied: torch in /Users/eryclisrodrigues/anaconda3/lib/python3.11/site-packages (from easyocr) (2.1.2)\n",
      "Requirement already satisfied: torchvision>=0.5 in /Users/eryclisrodrigues/anaconda3/lib/python3.11/site-packages (from easyocr) (0.16.2)\n",
      "Requirement already satisfied: opencv-python-headless in /Users/eryclisrodrigues/anaconda3/lib/python3.11/site-packages (from easyocr) (4.9.0.80)\n",
      "Requirement already satisfied: scipy in /Users/eryclisrodrigues/anaconda3/lib/python3.11/site-packages (from easyocr) (1.10.1)\n",
      "Requirement already satisfied: scikit-image in /Users/eryclisrodrigues/anaconda3/lib/python3.11/site-packages (from easyocr) (0.20.0)\n",
      "Requirement already satisfied: python-bidi in /Users/eryclisrodrigues/anaconda3/lib/python3.11/site-packages (from easyocr) (0.4.2)\n",
      "Requirement already satisfied: PyYAML in /Users/eryclisrodrigues/anaconda3/lib/python3.11/site-packages (from easyocr) (6.0)\n",
      "Requirement already satisfied: Shapely in /Users/eryclisrodrigues/anaconda3/lib/python3.11/site-packages (from easyocr) (2.0.2)\n",
      "Requirement already satisfied: pyclipper in /Users/eryclisrodrigues/anaconda3/lib/python3.11/site-packages (from easyocr) (1.3.0.post5)\n",
      "Requirement already satisfied: ninja in /Users/eryclisrodrigues/anaconda3/lib/python3.11/site-packages (from easyocr) (1.11.1.1)\n",
      "Requirement already satisfied: typing-extensions>=4.2.0 in /Users/eryclisrodrigues/anaconda3/lib/python3.11/site-packages (from pydantic!=1.8,!=1.8.1,<3.0.0,>=1.7.4->spacy) (4.9.0)\n",
      "Requirement already satisfied: charset-normalizer<4,>=2 in /Users/eryclisrodrigues/anaconda3/lib/python3.11/site-packages (from requests<3.0.0,>=2.13.0->spacy) (3.3.2)\n",
      "Requirement already satisfied: idna<4,>=2.5 in /Users/eryclisrodrigues/anaconda3/lib/python3.11/site-packages (from requests<3.0.0,>=2.13.0->spacy) (3.6)\n",
      "Requirement already satisfied: urllib3<3,>=1.21.1 in /Users/eryclisrodrigues/anaconda3/lib/python3.11/site-packages (from requests<3.0.0,>=2.13.0->spacy) (1.26.18)\n",
      "Requirement already satisfied: certifi>=2017.4.17 in /Users/eryclisrodrigues/anaconda3/lib/python3.11/site-packages (from requests<3.0.0,>=2.13.0->spacy) (2024.2.2)\n",
      "Requirement already satisfied: blis<0.8.0,>=0.7.8 in /Users/eryclisrodrigues/anaconda3/lib/python3.11/site-packages (from thinc<8.3.0,>=8.2.2->spacy) (0.7.11)\n",
      "Requirement already satisfied: confection<1.0.0,>=0.0.1 in /Users/eryclisrodrigues/anaconda3/lib/python3.11/site-packages (from thinc<8.3.0,>=8.2.2->spacy) (0.1.4)\n",
      "Requirement already satisfied: filelock in /Users/eryclisrodrigues/anaconda3/lib/python3.11/site-packages (from torch->easyocr) (3.13.1)\n",
      "Requirement already satisfied: sympy in /Users/eryclisrodrigues/anaconda3/lib/python3.11/site-packages (from torch->easyocr) (1.11.1)\n",
      "Requirement already satisfied: networkx in /Users/eryclisrodrigues/anaconda3/lib/python3.11/site-packages (from torch->easyocr) (3.1)\n",
      "Requirement already satisfied: fsspec in /Users/eryclisrodrigues/anaconda3/lib/python3.11/site-packages (from torch->easyocr) (2023.12.2)\n",
      "Requirement already satisfied: cloudpathlib<0.17.0,>=0.7.0 in /Users/eryclisrodrigues/anaconda3/lib/python3.11/site-packages (from weasel<0.4.0,>=0.1.0->spacy) (0.16.0)\n",
      "Requirement already satisfied: MarkupSafe>=2.0 in /Users/eryclisrodrigues/anaconda3/lib/python3.11/site-packages (from jinja2->spacy) (2.1.1)\n",
      "Requirement already satisfied: six in /Users/eryclisrodrigues/anaconda3/lib/python3.11/site-packages (from python-bidi->easyocr) (1.16.0)\n",
      "Requirement already satisfied: imageio>=2.4.1 in /Users/eryclisrodrigues/anaconda3/lib/python3.11/site-packages (from scikit-image->easyocr) (2.31.1)\n",
      "Requirement already satisfied: tifffile>=2019.7.26 in /Users/eryclisrodrigues/anaconda3/lib/python3.11/site-packages (from scikit-image->easyocr) (2021.7.2)\n",
      "Requirement already satisfied: PyWavelets>=1.1.1 in /Users/eryclisrodrigues/anaconda3/lib/python3.11/site-packages (from scikit-image->easyocr) (1.4.1)\n",
      "Requirement already satisfied: lazy_loader>=0.1 in /Users/eryclisrodrigues/anaconda3/lib/python3.11/site-packages (from scikit-image->easyocr) (0.2)\n",
      "Requirement already satisfied: mpmath>=0.19 in /Users/eryclisrodrigues/anaconda3/lib/python3.11/site-packages (from sympy->torch->easyocr) (1.3.0)\n"
     ]
    }
   ],
   "source": [
    "#!pip install pdf2image nltk spacy easyocr\n"
   ]
  },
  {
   "cell_type": "code",
   "execution_count": 2,
   "id": "954a7086",
   "metadata": {},
   "outputs": [
    {
     "name": "stdout",
     "output_type": "stream",
     "text": [
      "Collecting en-core-web-sm==3.7.1\n",
      "  Downloading https://github.com/explosion/spacy-models/releases/download/en_core_web_sm-3.7.1/en_core_web_sm-3.7.1-py3-none-any.whl (12.8 MB)\n",
      "\u001b[2K     \u001b[90m━━━━━━━━━━━━━━━━━━━━━━━━━━━━━━━━━━━━━━━━\u001b[0m \u001b[32m12.8/12.8 MB\u001b[0m \u001b[31m28.3 MB/s\u001b[0m eta \u001b[36m0:00:00\u001b[0m00:01\u001b[0m00:01\u001b[0m\n",
      "\u001b[?25hRequirement already satisfied: spacy<3.8.0,>=3.7.2 in /Users/eryclisrodrigues/anaconda3/lib/python3.11/site-packages (from en-core-web-sm==3.7.1) (3.7.4)\n",
      "Requirement already satisfied: spacy-legacy<3.1.0,>=3.0.11 in /Users/eryclisrodrigues/anaconda3/lib/python3.11/site-packages (from spacy<3.8.0,>=3.7.2->en-core-web-sm==3.7.1) (3.0.12)\n",
      "Requirement already satisfied: spacy-loggers<2.0.0,>=1.0.0 in /Users/eryclisrodrigues/anaconda3/lib/python3.11/site-packages (from spacy<3.8.0,>=3.7.2->en-core-web-sm==3.7.1) (1.0.5)\n",
      "Requirement already satisfied: murmurhash<1.1.0,>=0.28.0 in /Users/eryclisrodrigues/anaconda3/lib/python3.11/site-packages (from spacy<3.8.0,>=3.7.2->en-core-web-sm==3.7.1) (1.0.10)\n",
      "Requirement already satisfied: cymem<2.1.0,>=2.0.2 in /Users/eryclisrodrigues/anaconda3/lib/python3.11/site-packages (from spacy<3.8.0,>=3.7.2->en-core-web-sm==3.7.1) (2.0.8)\n",
      "Requirement already satisfied: preshed<3.1.0,>=3.0.2 in /Users/eryclisrodrigues/anaconda3/lib/python3.11/site-packages (from spacy<3.8.0,>=3.7.2->en-core-web-sm==3.7.1) (3.0.9)\n",
      "Requirement already satisfied: thinc<8.3.0,>=8.2.2 in /Users/eryclisrodrigues/anaconda3/lib/python3.11/site-packages (from spacy<3.8.0,>=3.7.2->en-core-web-sm==3.7.1) (8.2.2)\n",
      "Requirement already satisfied: wasabi<1.2.0,>=0.9.1 in /Users/eryclisrodrigues/anaconda3/lib/python3.11/site-packages (from spacy<3.8.0,>=3.7.2->en-core-web-sm==3.7.1) (1.1.2)\n",
      "Requirement already satisfied: srsly<3.0.0,>=2.4.3 in /Users/eryclisrodrigues/anaconda3/lib/python3.11/site-packages (from spacy<3.8.0,>=3.7.2->en-core-web-sm==3.7.1) (2.4.8)\n",
      "Requirement already satisfied: catalogue<2.1.0,>=2.0.6 in /Users/eryclisrodrigues/anaconda3/lib/python3.11/site-packages (from spacy<3.8.0,>=3.7.2->en-core-web-sm==3.7.1) (2.0.10)\n",
      "Requirement already satisfied: weasel<0.4.0,>=0.1.0 in /Users/eryclisrodrigues/anaconda3/lib/python3.11/site-packages (from spacy<3.8.0,>=3.7.2->en-core-web-sm==3.7.1) (0.3.4)\n",
      "Requirement already satisfied: typer<0.10.0,>=0.3.0 in /Users/eryclisrodrigues/anaconda3/lib/python3.11/site-packages (from spacy<3.8.0,>=3.7.2->en-core-web-sm==3.7.1) (0.9.0)\n",
      "Requirement already satisfied: smart-open<7.0.0,>=5.2.1 in /Users/eryclisrodrigues/anaconda3/lib/python3.11/site-packages (from spacy<3.8.0,>=3.7.2->en-core-web-sm==3.7.1) (5.2.1)\n",
      "Requirement already satisfied: tqdm<5.0.0,>=4.38.0 in /Users/eryclisrodrigues/anaconda3/lib/python3.11/site-packages (from spacy<3.8.0,>=3.7.2->en-core-web-sm==3.7.1) (4.66.2)\n",
      "Requirement already satisfied: requests<3.0.0,>=2.13.0 in /Users/eryclisrodrigues/anaconda3/lib/python3.11/site-packages (from spacy<3.8.0,>=3.7.2->en-core-web-sm==3.7.1) (2.31.0)\n",
      "Requirement already satisfied: pydantic!=1.8,!=1.8.1,<3.0.0,>=1.7.4 in /Users/eryclisrodrigues/anaconda3/lib/python3.11/site-packages (from spacy<3.8.0,>=3.7.2->en-core-web-sm==3.7.1) (1.10.14)\n",
      "Requirement already satisfied: jinja2 in /Users/eryclisrodrigues/anaconda3/lib/python3.11/site-packages (from spacy<3.8.0,>=3.7.2->en-core-web-sm==3.7.1) (3.1.2)\n",
      "Requirement already satisfied: setuptools in /Users/eryclisrodrigues/anaconda3/lib/python3.11/site-packages (from spacy<3.8.0,>=3.7.2->en-core-web-sm==3.7.1) (68.0.0)\n",
      "Requirement already satisfied: packaging>=20.0 in /Users/eryclisrodrigues/anaconda3/lib/python3.11/site-packages (from spacy<3.8.0,>=3.7.2->en-core-web-sm==3.7.1) (23.2)\n",
      "Requirement already satisfied: langcodes<4.0.0,>=3.2.0 in /Users/eryclisrodrigues/anaconda3/lib/python3.11/site-packages (from spacy<3.8.0,>=3.7.2->en-core-web-sm==3.7.1) (3.3.0)\n",
      "Requirement already satisfied: numpy>=1.19.0 in /Users/eryclisrodrigues/anaconda3/lib/python3.11/site-packages (from spacy<3.8.0,>=3.7.2->en-core-web-sm==3.7.1) (1.24.4)\n",
      "Requirement already satisfied: typing-extensions>=4.2.0 in /Users/eryclisrodrigues/anaconda3/lib/python3.11/site-packages (from pydantic!=1.8,!=1.8.1,<3.0.0,>=1.7.4->spacy<3.8.0,>=3.7.2->en-core-web-sm==3.7.1) (4.9.0)\n",
      "Requirement already satisfied: charset-normalizer<4,>=2 in /Users/eryclisrodrigues/anaconda3/lib/python3.11/site-packages (from requests<3.0.0,>=2.13.0->spacy<3.8.0,>=3.7.2->en-core-web-sm==3.7.1) (3.3.2)\n",
      "Requirement already satisfied: idna<4,>=2.5 in /Users/eryclisrodrigues/anaconda3/lib/python3.11/site-packages (from requests<3.0.0,>=2.13.0->spacy<3.8.0,>=3.7.2->en-core-web-sm==3.7.1) (3.6)\n",
      "Requirement already satisfied: urllib3<3,>=1.21.1 in /Users/eryclisrodrigues/anaconda3/lib/python3.11/site-packages (from requests<3.0.0,>=2.13.0->spacy<3.8.0,>=3.7.2->en-core-web-sm==3.7.1) (1.26.18)\n",
      "Requirement already satisfied: certifi>=2017.4.17 in /Users/eryclisrodrigues/anaconda3/lib/python3.11/site-packages (from requests<3.0.0,>=2.13.0->spacy<3.8.0,>=3.7.2->en-core-web-sm==3.7.1) (2024.2.2)\n",
      "Requirement already satisfied: blis<0.8.0,>=0.7.8 in /Users/eryclisrodrigues/anaconda3/lib/python3.11/site-packages (from thinc<8.3.0,>=8.2.2->spacy<3.8.0,>=3.7.2->en-core-web-sm==3.7.1) (0.7.11)\n",
      "Requirement already satisfied: confection<1.0.0,>=0.0.1 in /Users/eryclisrodrigues/anaconda3/lib/python3.11/site-packages (from thinc<8.3.0,>=8.2.2->spacy<3.8.0,>=3.7.2->en-core-web-sm==3.7.1) (0.1.4)\n",
      "Requirement already satisfied: click<9.0.0,>=7.1.1 in /Users/eryclisrodrigues/anaconda3/lib/python3.11/site-packages (from typer<0.10.0,>=0.3.0->spacy<3.8.0,>=3.7.2->en-core-web-sm==3.7.1) (8.1.7)\n",
      "Requirement already satisfied: cloudpathlib<0.17.0,>=0.7.0 in /Users/eryclisrodrigues/anaconda3/lib/python3.11/site-packages (from weasel<0.4.0,>=0.1.0->spacy<3.8.0,>=3.7.2->en-core-web-sm==3.7.1) (0.16.0)\n",
      "Requirement already satisfied: MarkupSafe>=2.0 in /Users/eryclisrodrigues/anaconda3/lib/python3.11/site-packages (from jinja2->spacy<3.8.0,>=3.7.2->en-core-web-sm==3.7.1) (2.1.1)\n",
      "\u001b[38;5;2m✔ Download and installation successful\u001b[0m\n",
      "You can now load the package via spacy.load('en_core_web_sm')\n"
     ]
    }
   ],
   "source": [
    "#!python -m spacy download en_core_web_sm\n"
   ]
  },
  {
   "cell_type": "code",
   "execution_count": 3,
   "id": "cacc44f4",
   "metadata": {},
   "outputs": [],
   "source": [
    "import os\n",
    "import pandas as pd\n",
    "from pdf2image import convert_from_path\n",
    "import easyocr\n",
    "import numpy as np\n",
    "\n",
    "# Function to extrac text from PDF\n",
    "def extract_text_from_pdf(pdf_path):\n",
    "    text = ''\n",
    "    images = convert_from_path(pdf_path)\n",
    "    for page_number, img in enumerate(images, 1):\n",
    "        img_array = np.array(img)\n",
    "        page_text = easyocr.Reader(lang_list=['en']).readtext(img_array)\n",
    "        page_text = ' '.join([result[1] for result in page_text])\n",
    "        text += f'\\n\\nPage {page_number}:\\n\\n{page_text}'\n",
    "    return text\n",
    "\n",
    "# Functions to process PDFs and return a Dataframe\n",
    "def process_pdfs_to_dataframe(folder_path, languages):\n",
    "    data = {'Document': [], 'Text': []}\n",
    "\n",
    "    for filename in os.listdir(folder_path):\n",
    "        if filename.endswith('.pdf'):\n",
    "            pdf_path = os.path.join(folder_path, filename)\n",
    "\n",
    "            try:\n",
    "                pdf_text = extract_text_from_pdf(pdf_path)\n",
    "                data['Document'].append(filename)\n",
    "                data['Text'].append(pdf_text)\n",
    "                print(f'Texto extraído de {filename}.')\n",
    "            except Exception as e:\n",
    "                print(f'Erro ao processar {filename}: {str(e)}')\n",
    "\n",
    "    df = pd.DataFrame(data)\n",
    "    return df\n",
    "\n"
   ]
  },
  {
   "cell_type": "code",
   "execution_count": 5,
   "id": "904c0efd",
   "metadata": {},
   "outputs": [
    {
     "name": "stdout",
     "output_type": "stream",
     "text": [
      "Texto extraído de [Switzerland] Digital Switzerland Strategy 2023.pdf.\n",
      "Texto extraído de [Pakistan] National AI Policy Consultation Draft V1.pdf.\n",
      "Texto extraído de [Saudi Arabia 2020] - National Strategy for Data and AI.pdf.\n",
      "Texto extraído de [Malaysia] AI Road Map.pdf.\n",
      "Texto extraído de [Hong Kong] Ethical_AI_Framework.pdf.\n",
      "Texto extraído de Rawanda_Artificial_Intelligence_Policy.pdf.\n",
      "Texto extraído de AI for Africa Artificial Intelligence for Africa's Socio Economic Development.pdf.\n",
      "Texto extraído de [Spain] National-Strategy-on-AI.pdf.\n",
      "Texto extraído de Tunisia_Startup Act.pdf.\n",
      "Texto extraído de [Korea] National Strategy for Artificial Intelligence_200323.pdf.\n",
      "Texto extraído de [Cambodia] AI Landscape in Cambodia - Current Status and Future Trends.pdf.\n",
      "Texto extraído de South Africa_Fourth Industrial Revolution.pdf.\n",
      "Texto extraído de [Singapore] AI Governance Framework.pdf.\n",
      "Texto extraído de Australia_AI_Action_Plan_2021.pdf.\n",
      "Texto extraído de [Germany] National AI Strategy.pdf.\n",
      "Texto extraído de [Japan] AI Principle.pdf.\n",
      "Texto extraído de Italy_Artificial_Intelligence_Strategic_Programme_2022-2024.pdf.\n",
      "Texto extraído de [Czech] National Artificial Intelligence Strategy.pdf.\n",
      "Texto extraído de [Ireland] National-ai-strategy.pdf.\n",
      "Texto extraído de Lithuania_Artificial_Intelligence_Strategy_2019.pdf.\n",
      "Texto extraído de Poland_Policy_for_Artificial_Intelligence_Development_in_Poland_from_2020_2020.pdf.\n",
      "Texto extraído de Romania-2019.pdf.\n",
      "Texto extraído de [United Arab Emirates] - National Strategy for Artificial Intelligence 2017-2031.pdf.\n",
      "Texto extraído de [China AI Regulation for 2023] Measures for the Management of Generative Artificial Intelligence Services.pdf.\n",
      "Texto extraído de [Bulgaria} CONCEPT FOR THE DEVELOPMENT OF ARTIFICIAL INTELLIGENCE.pdf.\n",
      "Texto extraído de [Vietnam] - National Strategy On R&D and Application of Artificial Intelligence.pdf.\n",
      "Texto extraído de Luxemburg - AI_EN_0.pdf.\n",
      "Texto extraído de [Philipines] National AI Strategy Roadmap.pdf.\n",
      "Texto extraído de Norway_National_Strategy_for_Artificial_Intelligence_2020.pdf.\n",
      "Texto extraído de [India 2021] - Responsible AI Document.pdf.\n",
      "Texto extraído de [Qatar] National AI Strategy.pdf.\n",
      "Texto extraído de Nigeria Policy-National_Digital_Economy_Policy_and_Strategy.pdf.\n",
      "Texto extraído de Sweden_National_Approach_to_Artificial_Intelligence_2018.pdf.\n",
      "Texto extraído de Egypt National AI Strategy.pdf.\n",
      "Texto extraído de [UK] National AI Strategy - HTML version - GOV.UK.pdf.\n",
      "Texto extraído de [USA] National-Artificial-Intelligence-Research-and-Development-Strategic-Plan-2023-Update.pdf.\n",
      "Texto extraído de Serbia_Strategy_for_Development_of_Artificial_Intelligence_in_Republic_of_Serbia_2020-2025.pdf.\n",
      "Texto extraído de [Denmark] National AI strategy.pdf.\n",
      "Texto extraído de Mauritius AI Strategy.pdf.\n",
      "Texto extraído de Netherlands_Strategic_Action_Plan_for_Artificial_Intelligence.pdf.\n",
      "Texto extraído de Portugal_AI_Portugal_2030_2019-2030.pdf.\n"
     ]
    }
   ],
   "source": [
    "\n",
    "folder_path = '/Users/eryclisrodrigues/Documents/Eryclis - docs/Research/Projects/AI Governance - Topic Modeling/Data/Raw Data Sampling/National Strategy'\n",
    "languages = ['en']\n",
    "df = process_pdfs_to_dataframe(folder_path, languages)\n"
   ]
  },
  {
   "cell_type": "code",
   "execution_count": 6,
   "id": "fe59b36e",
   "metadata": {},
   "outputs": [
    {
     "name": "stdout",
     "output_type": "stream",
     "text": [
      "                                            Document  \\\n",
      "0  [Switzerland] Digital Switzerland Strategy 202...   \n",
      "1  [Pakistan] National AI Policy Consultation Dra...   \n",
      "2  [Saudi Arabia 2020] - National Strategy for Da...   \n",
      "3                         [Malaysia] AI Road Map.pdf   \n",
      "4               [Hong Kong] Ethical_AI_Framework.pdf   \n",
      "\n",
      "                                                Text  \n",
      "0  \\n\\nPage 1:\\n\\nSchweizerische Eidgenossenschaf...  \n",
      "1  \\n\\nPage 1:\\n\\nMinistry of Information Technol...  \n",
      "2  \\n\\nPage 1:\\n\\nNSDAI aibgll auuljiwJl yclikJl ...  \n",
      "3  \\n\\nPage 1:\\n\\nKEMENTERIAN SAINS  TEKNOLOGI DA...  \n",
      "4  \\n\\nPage 1:\\n\\nOffice of the Government Chief ...  \n"
     ]
    }
   ],
   "source": [
    "# Visualize the DataFrame\n",
    "print(df.head())"
   ]
  },
  {
   "cell_type": "code",
   "execution_count": 7,
   "id": "68c3af87",
   "metadata": {},
   "outputs": [
    {
     "data": {
      "text/plain": [
       "'\\n\\nPage 1:\\n\\nSchweizerische Eidgenossenschaft Bundeskanzlei BK Confederation suisse Chancellerie federale ChF Confederazione Svizzera Cancelleria federale CaF Confederaziun svizra Federal Chancellery FCh Swiss Confederation Digital Switzerland Strategy 2023\\n\\nPage 2:\\n\\nDigital Switzerland Strategy 2023 PURPOSE The Digital Switzerland Strategy sets the guidelines for Switzerland\\'s digital transformation\\'. It is binding for the Federal Administration? and serves as an orientation for all other actors involved in digitalisation: The aim is for the population as a whole to benefit from a sustainable and respon- sible digital transformation. This is being driven forward jointly by the authorities at all federal levels, as well as by actors from civil society, business, academia and politics. Under focus themes, the Federal Council identifies two to three priorities each year as a way of launching digital transformation themes This focus is complemented by the action plan, which pro- vides an overview of activities in the area of digital transformation for the general public. In contrast to the annually changing focus themes, the vision and domains remain stable over several years. The Digital Switzerland Strategy provides a framework in the sense of an umbrella strategy for the Federal Digitalisation Strategy; the Swiss eGovernment Strategy and various other sectoral strategies It also helps Switzerland to achieve its climate and environmental goals and the Sus- tainable Development Goals set out in the United Nations 2030 Agenda. VISION Switzerland consistently prioritises digital offerings for the benefit of the people (digital first):. It makes targeted use of the opportunities offered by digital transformation so that everyone ben- efits in the run. Switzerland is one of the most digitally competitive and innovative countries in Europe: DOMAINS WITH INDICATORS The Digital Switzerland Strategy 2023 is structured around five longterm domains. These domains are based on the EU\\'s Digital Compass\\'. Focus themes and measures are each assigned to a do- main. This structure is intended to create a clear overview of sovereign activities that are impor- tant for a digital Switzerland: The Federal Council measures progress in each domain according to two indicators* As far as possible, the values are compared against international benchmarks: Education and skills People, businesses and public authorities have sufficient skills to make the most ofnew technologies and are able to question them: Indicators: Share of the population with advanced digital skills 41per cent 2021* Share of ICT specialists on the Swiss labour market (excl  apprentices) 5.1 per cent 2021\" Security and trust People in Switzerland can move around safely in the digital environment; privacy is protected: Indicators: Threat situation in cyberspace no: of cyber incidents reported to the 21714 2021 National Cyber Security Centre Cybercrime, identification of crimes with a cyber element 30351 cases 2021* Framework Businesses and society can rely on a reliable and advantageous framework for the digital environment: Indicators: Digital competitiveness, Switzerland s place in the IMD World Digital Competitiveness Rankings 2022\" Share of new firms in the ICT sector as a percentage of the total number of start-ups 5.8 per cent 2019\" See_Ordinance_of 25_November _2020on the_Coordination of the Di_ offered. A distinction is therefore made between \\'digital first\\' and the gital Transformation and ICT Steering in the Federal Administration: \"digital only\\' principle, which relies exclusively on digital solutions_ SR1Z2010.58 See_Europes_Digital_Decade:_digital_targets_for_2030 European The scope ofapplication complies with Art2 of the Government and Commission (europa eu) Administration Organisation Act of 2 March 997 SR1Z201Q The 10 indicators were initially defined. They are reviewed on an ongo - Under \\'digital first; digital solutions are prioritised whenever possib- ing basis and adjusted if necessary: For details see WWW digital swiss 1/2 le and wherever practical. If necessary non-digital solutions are also long\\n\\nPage 3:\\n\\nInfrastructure Public authorities promote and operate reliable and resilient physical as well as digital infrastructure: Indicators: 5G coverage as % of the national surface area 74 per cent 2021\" vailability of Open Government Data, no: of data sets on opendata swiss 7541 August 2022\" Digital public services Public authorities offer their services digitally as standard (digital first). Indicators: Availability of online services for the public 63 per cent 2022\" Digital public services for businesses 62 per cent 2022\" FOCUS THEMES The focus themes form the starting for new measures and Federal Council mandates, insofar as they fall under federal remit: They are the subject of the meetings of the Digital Switzerland Advisory Committee, in which experts chaired by a member of the Federal Council discuss the topic in depth. The Federal Council determines the focus themes annually The lead departments are responsible for their implementation: In 2023,the three focus themes are: Digitalisation in the healthcare sector Lead: Federal Office of Public Health (in close cooperation with the Federal Statistical Office). Healthcare institutions and professionals are better connected; the emphasis is on the multiple use of data: In order to promote an interoperable healthcare system based on transparent data ecosystem, and to implement specific measures and projects, a programme is to be developed to promote digital transformation in the healthcare sector Digitalisation-friendly legislation Lead: Federal Office of Justice: Laws are designed in such a way that they encourage digitalisation instead of inhibiting it: Authorities at all federal levels conduct their business digitally whenever possible and wherever practical. If necessary, non-digital solutions are also offered: Digital sovereignty Lead: Federal Department of Foreign Affairs, Directorate of International Law Switzerland ex- amines which political, legal,economic and individual dependencies can be reduced in the digital world. These are weighed against the advantages of international openness and networking ACTION PLAN The action plan forms part of the Digital Switzerland Strategy: It defines the relevant measures and provides an overview of the status of their implementation. Measures are specific, time-limit- ed programmes, projects or initiatives taken by internal or external actors. They make a significant contribution to Switzerland\\'s digital transformation. The progress of individual measures is con- tinuously updated by the lead actors and published as an overview on WWW digital-swiss: RESPONSIBILITIES AND IMPLEMENTATION The Federal Chancellery\\'s Digital Transformation and ICT Steering Division (DTI) is responsible for the ongoing development; coordination, communication and monitoring of the Digital Switzerland strategy: It reports annually to the Federal Council on the progress of the strategy and draws up proposals for new focus themes in close cooperation with the departments. The respective lead actors are responsible for implementing the individual measures and provide the DTI Division with regular progress reports. 2/2 point -\\n\\nPage 4:\\n\\nSchweizerische Eidgenossenschaft Bundeskanzlei BK Confederation suisse Chancellerie federale ChF Confederazione Svizzera Cancelleria federale CaF Confederaziun svizra Federal Chancellery FCh Swiss Confederation Digital Switzerland Strategy 2023 Valid from January 2023 digitale-schweiz@bkadmin ch +41 (0)58 462 39 00 WWWdigital swiss'"
      ]
     },
     "execution_count": 7,
     "metadata": {},
     "output_type": "execute_result"
    }
   ],
   "source": [
    "df['Text'][0]"
   ]
  },
  {
   "cell_type": "code",
   "execution_count": 22,
   "id": "bff34e83",
   "metadata": {},
   "outputs": [],
   "source": [
    "\n",
    "df_folder_path = '/Users/eryclisrodrigues/Documents/Eryclis - docs/Research/Projects/AI Governance - Topic Modeling/Data/Intermediate Data/Intermediate Data.csv'\n"
   ]
  },
  {
   "cell_type": "code",
   "execution_count": 23,
   "id": "077b0829",
   "metadata": {},
   "outputs": [],
   "source": [
    "df.to_csv(df_folder_path, index=False)"
   ]
  },
  {
   "cell_type": "code",
   "execution_count": null,
   "id": "283a8aa7",
   "metadata": {},
   "outputs": [],
   "source": []
  }
 ],
 "metadata": {
  "kernelspec": {
   "display_name": "Python 3 (ipykernel)",
   "language": "python",
   "name": "python3"
  },
  "language_info": {
   "codemirror_mode": {
    "name": "ipython",
    "version": 3
   },
   "file_extension": ".py",
   "mimetype": "text/x-python",
   "name": "python",
   "nbconvert_exporter": "python",
   "pygments_lexer": "ipython3",
   "version": "3.11.4"
  }
 },
 "nbformat": 4,
 "nbformat_minor": 5
}
